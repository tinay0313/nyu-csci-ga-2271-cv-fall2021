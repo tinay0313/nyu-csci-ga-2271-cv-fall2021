{
  "nbformat": 4,
  "nbformat_minor": 0,
  "metadata": {
    "colab": {
      "name": "Assignment 1.1 - Computer Vision CSCI-GA.2272-001.ipynb",
      "provenance": [],
      "collapsed_sections": [],
      "include_colab_link": true
    },
    "kernelspec": {
      "name": "python3",
      "display_name": "Python 3"
    },
    "widgets": {
      "application/vnd.jupyter.widget-state+json": {
        "04539c4495c64d11b42905b3030fefff": {
          "model_module": "@jupyter-widgets/controls",
          "model_name": "HBoxModel",
          "model_module_version": "1.5.0",
          "state": {
            "_view_name": "HBoxView",
            "_dom_classes": [],
            "_model_name": "HBoxModel",
            "_view_module": "@jupyter-widgets/controls",
            "_model_module_version": "1.5.0",
            "_view_count": null,
            "_view_module_version": "1.5.0",
            "box_style": "",
            "layout": "IPY_MODEL_cd7fe7b4bb3f49029c2de890c3cd7d58",
            "_model_module": "@jupyter-widgets/controls",
            "children": [
              "IPY_MODEL_f010b14902ec44c69648cabd2a0cd01d",
              "IPY_MODEL_836e2b0833894246ac27f5f34e66ace1"
            ]
          }
        },
        "cd7fe7b4bb3f49029c2de890c3cd7d58": {
          "model_module": "@jupyter-widgets/base",
          "model_name": "LayoutModel",
          "model_module_version": "1.2.0",
          "state": {
            "_view_name": "LayoutView",
            "grid_template_rows": null,
            "right": null,
            "justify_content": null,
            "_view_module": "@jupyter-widgets/base",
            "overflow": null,
            "_model_module_version": "1.2.0",
            "_view_count": null,
            "flex_flow": null,
            "width": null,
            "min_width": null,
            "border": null,
            "align_items": null,
            "bottom": null,
            "_model_module": "@jupyter-widgets/base",
            "top": null,
            "grid_column": null,
            "overflow_y": null,
            "overflow_x": null,
            "grid_auto_flow": null,
            "grid_area": null,
            "grid_template_columns": null,
            "flex": null,
            "_model_name": "LayoutModel",
            "justify_items": null,
            "grid_row": null,
            "max_height": null,
            "align_content": null,
            "visibility": null,
            "align_self": null,
            "height": null,
            "min_height": null,
            "padding": null,
            "grid_auto_rows": null,
            "grid_gap": null,
            "max_width": null,
            "order": null,
            "_view_module_version": "1.2.0",
            "grid_template_areas": null,
            "object_position": null,
            "object_fit": null,
            "grid_auto_columns": null,
            "margin": null,
            "display": null,
            "left": null
          }
        },
        "f010b14902ec44c69648cabd2a0cd01d": {
          "model_module": "@jupyter-widgets/controls",
          "model_name": "FloatProgressModel",
          "model_module_version": "1.5.0",
          "state": {
            "_view_name": "ProgressView",
            "style": "IPY_MODEL_99e3ee30d7cc411bb7396ef9a96c875a",
            "_dom_classes": [],
            "description": "",
            "_model_name": "FloatProgressModel",
            "bar_style": "info",
            "max": 1,
            "_view_module": "@jupyter-widgets/controls",
            "_model_module_version": "1.5.0",
            "value": 1,
            "_view_count": null,
            "_view_module_version": "1.5.0",
            "orientation": "horizontal",
            "min": 0,
            "description_tooltip": null,
            "_model_module": "@jupyter-widgets/controls",
            "layout": "IPY_MODEL_0d4fa71e22304340b5639c8f88f74846"
          }
        },
        "836e2b0833894246ac27f5f34e66ace1": {
          "model_module": "@jupyter-widgets/controls",
          "model_name": "HTMLModel",
          "model_module_version": "1.5.0",
          "state": {
            "_view_name": "HTMLView",
            "style": "IPY_MODEL_bf7359f70e35462f877beb7d0935f8e3",
            "_dom_classes": [],
            "description": "",
            "_model_name": "HTMLModel",
            "placeholder": "​",
            "_view_module": "@jupyter-widgets/controls",
            "_model_module_version": "1.5.0",
            "value": " 170500096/? [00:20&lt;00:00, 77534659.00it/s]",
            "_view_count": null,
            "_view_module_version": "1.5.0",
            "description_tooltip": null,
            "_model_module": "@jupyter-widgets/controls",
            "layout": "IPY_MODEL_6d2f0036f8a34a5c8abccbcff73f01ae"
          }
        },
        "99e3ee30d7cc411bb7396ef9a96c875a": {
          "model_module": "@jupyter-widgets/controls",
          "model_name": "ProgressStyleModel",
          "model_module_version": "1.5.0",
          "state": {
            "_view_name": "StyleView",
            "_model_name": "ProgressStyleModel",
            "description_width": "initial",
            "_view_module": "@jupyter-widgets/base",
            "_model_module_version": "1.5.0",
            "_view_count": null,
            "_view_module_version": "1.2.0",
            "bar_color": null,
            "_model_module": "@jupyter-widgets/controls"
          }
        },
        "0d4fa71e22304340b5639c8f88f74846": {
          "model_module": "@jupyter-widgets/base",
          "model_name": "LayoutModel",
          "model_module_version": "1.2.0",
          "state": {
            "_view_name": "LayoutView",
            "grid_template_rows": null,
            "right": null,
            "justify_content": null,
            "_view_module": "@jupyter-widgets/base",
            "overflow": null,
            "_model_module_version": "1.2.0",
            "_view_count": null,
            "flex_flow": null,
            "width": null,
            "min_width": null,
            "border": null,
            "align_items": null,
            "bottom": null,
            "_model_module": "@jupyter-widgets/base",
            "top": null,
            "grid_column": null,
            "overflow_y": null,
            "overflow_x": null,
            "grid_auto_flow": null,
            "grid_area": null,
            "grid_template_columns": null,
            "flex": null,
            "_model_name": "LayoutModel",
            "justify_items": null,
            "grid_row": null,
            "max_height": null,
            "align_content": null,
            "visibility": null,
            "align_self": null,
            "height": null,
            "min_height": null,
            "padding": null,
            "grid_auto_rows": null,
            "grid_gap": null,
            "max_width": null,
            "order": null,
            "_view_module_version": "1.2.0",
            "grid_template_areas": null,
            "object_position": null,
            "object_fit": null,
            "grid_auto_columns": null,
            "margin": null,
            "display": null,
            "left": null
          }
        },
        "bf7359f70e35462f877beb7d0935f8e3": {
          "model_module": "@jupyter-widgets/controls",
          "model_name": "DescriptionStyleModel",
          "model_module_version": "1.5.0",
          "state": {
            "_view_name": "StyleView",
            "_model_name": "DescriptionStyleModel",
            "description_width": "",
            "_view_module": "@jupyter-widgets/base",
            "_model_module_version": "1.5.0",
            "_view_count": null,
            "_view_module_version": "1.2.0",
            "_model_module": "@jupyter-widgets/controls"
          }
        },
        "6d2f0036f8a34a5c8abccbcff73f01ae": {
          "model_module": "@jupyter-widgets/base",
          "model_name": "LayoutModel",
          "model_module_version": "1.2.0",
          "state": {
            "_view_name": "LayoutView",
            "grid_template_rows": null,
            "right": null,
            "justify_content": null,
            "_view_module": "@jupyter-widgets/base",
            "overflow": null,
            "_model_module_version": "1.2.0",
            "_view_count": null,
            "flex_flow": null,
            "width": null,
            "min_width": null,
            "border": null,
            "align_items": null,
            "bottom": null,
            "_model_module": "@jupyter-widgets/base",
            "top": null,
            "grid_column": null,
            "overflow_y": null,
            "overflow_x": null,
            "grid_auto_flow": null,
            "grid_area": null,
            "grid_template_columns": null,
            "flex": null,
            "_model_name": "LayoutModel",
            "justify_items": null,
            "grid_row": null,
            "max_height": null,
            "align_content": null,
            "visibility": null,
            "align_self": null,
            "height": null,
            "min_height": null,
            "padding": null,
            "grid_auto_rows": null,
            "grid_gap": null,
            "max_width": null,
            "order": null,
            "_view_module_version": "1.2.0",
            "grid_template_areas": null,
            "object_position": null,
            "object_fit": null,
            "grid_auto_columns": null,
            "margin": null,
            "display": null,
            "left": null
          }
        }
      }
    },
    "accelerator": "GPU"
  },
  "cells": [
    {
      "cell_type": "markdown",
      "metadata": {
        "id": "view-in-github",
        "colab_type": "text"
      },
      "source": [
        "<a href=\"https://colab.research.google.com/github/tinay0313/nyu-csci-ga-2271-cv-fall2021/blob/main/Assignment_1_1_Computer_Vision_CSCI_GA_2272_001.ipynb\" target=\"_parent\"><img src=\"https://colab.research.google.com/assets/colab-badge.svg\" alt=\"Open In Colab\"/></a>"
      ]
    },
    {
      "cell_type": "markdown",
      "metadata": {
        "id": "5NwLQOFMMlev"
      },
      "source": [
        "# Computer Vision CSCI-GA.2272-001 Assignment 1, part 1.\n",
        "\n",
        "Fall 2021 semester.\n",
        "\n",
        "Due date: **September 30th 2021.**\n",
        "\n",
        "## Introduction\n",
        "\n",
        "This assignment is an introduction to using PyTorch for training simple neural net models. Two different datasets will be used: \n",
        "- MNIST digits [handwritten digits]\n",
        "- CIFAR-10 [32x32 resolution color images of 10 object classes].\n",
        "\n",
        "## Requirements\n",
        "\n",
        "You should perform this assignment in PyTorch by modifying this ipython notebook (File-->Save a copy...).\n",
        "\n",
        "To install PyTorch, follow instructions at http://pytorch.org/\n",
        "\n",
        "Please submit your assignment by uploading this iPython notebook to Brightspace.\n",
        "\n",
        "## Warmup [5%]\n",
        "\n",
        "It is always good practice to visually inspect your data before trying to train a model, since it lets you check for problems and get a feel for the task at hand.\n",
        "\n",
        "MNIST is a dataset of 70,000 grayscale hand-written digits (0 through 9).\n",
        "60,000 of these are training images. 10,000 are a held out test set. \n",
        "\n",
        "CIFAR-10 is a dataset of 60,000 color images (32 by 32 resolution) across 10 classes\n",
        "(airplane, automobile, bird, cat, deer, dog, frog, horse, ship, truck). \n",
        "The train/test split is 50k/10k.\n",
        "\n",
        "Use `matplotlib` and ipython notebook's visualization capabilities to display some of these images.\n",
        "[See this PyTorch tutorial page](http://pytorch.org/tutorials/beginner/blitz/cifar10_tutorial.html#sphx-glr-beginner-blitz-cifar10-tutorial-py) for hints on how to achieve this.\n",
        "\n",
        "** Relevant Cell: \"Data Loading\" **\n",
        "\n",
        "## Training a Single Layer Network on MNIST [10%]\n",
        "\n",
        "Start by running the training on MNIST.\n",
        "By default if you run this notebook successfully, it will train on MNIST.\n",
        "\n",
        "This will initialize a single layer model train it on the 60,000 MNIST training images for 1 epoch (passes through the training data). \n",
        "\n",
        "The loss function [cross_entropy](http://pytorch.org/docs/master/nn.html?highlight=cross_entropy#torch.nn.functional.cross_entropy) computes a Logarithm of the Softmax on the output of the neural network, and then computes the negative log-likelihood w.r.t. the given `target`.\n",
        "\n",
        "The default values for the learning rate, batch size and number of epochs are given in the \"options\" cell of this notebook. \n",
        "Unless otherwise specified, use the default values throughout this assignment. \n",
        "\n",
        "Note the decrease in training loss and corresponding decrease in validation errors.\n",
        "\n",
        "Paste the output into your report.\n",
        "(a): Add code to plot out the network weights as images (one for each output, of size 28 by 28) after the last epoch. Grab a screenshot of the figure and include it in your report. (Hint threads: [#1](https://discuss.pytorch.org/t/understanding-deep-network-visualize-weights/2060/2?u=smth) [#2](https://github.com/pytorch/vision#utils) )\n",
        "\n",
        "(b): Reduce the number of training examples to just 50. [Hint: limit the iterator in the `train` function]. \n",
        "Paste the output into your report and explain what is happening to the model.\n",
        "\n",
        "## Training a Multi-Layer Network on MNIST [10%]\n",
        "\n",
        "- Add an extra layer to the network with 1000 hidden units and a `tanh` non-linearity. [Hint: modify the `Net` class]. Train the model for 10 epochs and save the output into your report.\n",
        "-  Now set the learning rate to 10 and observe what happens during training. Save the output in your report and give a brief explanation\n",
        "\n",
        "## Training a Convolutional Network on CIFAR [25%]\n",
        "\n",
        "To change over to the CIFAR-10 dataset, change the `options` cell's `dataset` variable to `'cifar10'`.\n",
        "\n",
        "- Create a convolutional network with the following architecture:\n",
        "  - Convolution with 5 by 5 filters, 16 feature maps + Tanh nonlinearity.\n",
        "  - 2 by 2 max pooling (non-overlapping).\n",
        "  - Convolution with 5 by 5 filters, 128 feature maps + Tanh nonlinearity.\n",
        "  - 2 by 2 max pooling (non-overlapping).\n",
        "  - Flatten to vector.\n",
        "  - Linear layer with 64 hidden units + Tanh nonlinearity.\n",
        "  - Linear layer to 10 output units.\n",
        "\n",
        "Train it for 20 epochs on the CIFAR-10 training set and copy the output\n",
        "into your report, along with a image of the first layer filters.\n",
        "\n",
        "Hints: [Follow the first PyTorch tutorial](http://pytorch.org/tutorials/beginner/blitz/neural_networks_tutorial.html#sphx-glr-beginner-blitz-neural-networks-tutorial-py) or look at the [MNIST example](https://github.com/pytorch/examples/tree/master/mnist). Also, you may find training is faster if you use a GPU runtime (RunTime-->Change Runtime Type-->GPU). \n",
        "\n",
        "- Give a breakdown of the parameters within the above model, and the overall number."
      ]
    },
    {
      "cell_type": "code",
      "metadata": {
        "id": "CrnqiscEKGWv"
      },
      "source": [
        "from __future__ import print_function\n",
        "import argparse\n",
        "import torch\n",
        "import torch.nn as nn\n",
        "import torch.nn.functional as F\n",
        "import torch.optim as optim\n",
        "from torchvision import datasets, transforms\n",
        "from torch.autograd import Variable"
      ],
      "execution_count": null,
      "outputs": []
    },
    {
      "cell_type": "code",
      "metadata": {
        "id": "V0NBWksLKRD7"
      },
      "source": [
        "# options\n",
        "dataset = 'mnist' # options: 'mnist' | 'cifar10'\n",
        "batch_size = 64   # input batch size for training\n",
        "epochs = 10       # number of epochs to train\n",
        "lr = 0.01        # learning rate"
      ],
      "execution_count": null,
      "outputs": []
    },
    {
      "cell_type": "code",
      "metadata": {
        "id": "ab7pqvGUKVVf",
        "colab": {
          "base_uri": "https://localhost:8080/",
          "height": 100,
          "referenced_widgets": [
            "04539c4495c64d11b42905b3030fefff",
            "cd7fe7b4bb3f49029c2de890c3cd7d58",
            "f010b14902ec44c69648cabd2a0cd01d",
            "836e2b0833894246ac27f5f34e66ace1",
            "99e3ee30d7cc411bb7396ef9a96c875a",
            "0d4fa71e22304340b5639c8f88f74846",
            "bf7359f70e35462f877beb7d0935f8e3",
            "6d2f0036f8a34a5c8abccbcff73f01ae"
          ]
        },
        "outputId": "c2009734-27ee-4191-9d6c-d189d9664329"
      },
      "source": [
        "# Data Loading\n",
        "# Warning: this cell might take some time when you run it for the first time, \n",
        "#          because it will download the datasets from the internet\n",
        "if dataset == 'mnist':\n",
        "    data_transform = transforms.Compose([\n",
        "        transforms.ToTensor(),\n",
        "        transforms.Normalize((0.1307,), (0.3081,))\n",
        "    ])\n",
        "    trainset = datasets.MNIST(root='.', train=True, download=True, transform=data_transform)\n",
        "    testset = datasets.MNIST(root='.', train=False, download=True, transform=data_transform)\n",
        "\n",
        "elif dataset == 'cifar10':\n",
        "    data_transform = transforms.Compose([\n",
        "        transforms.ToTensor(),\n",
        "        transforms.Normalize((0.5, 0.5, 0.5), (0.5, 0.5, 0.5)),\n",
        "    ])\n",
        "    trainset = datasets.CIFAR10(root='.', train=True, download=True, transform=data_transform)\n",
        "    testset = datasets.CIFAR10(root='.', train=False, download=True, transform=data_transform)\n",
        "\n",
        "train_loader = torch.utils.data.DataLoader(trainset, batch_size=batch_size, shuffle=True, num_workers=0)\n",
        "test_loader  = torch.utils.data.DataLoader(testset, batch_size=batch_size, shuffle=False, num_workers=0)"
      ],
      "execution_count": null,
      "outputs": [
        {
          "output_type": "stream",
          "text": [
            "Downloading https://www.cs.toronto.edu/~kriz/cifar-10-python.tar.gz to ./cifar-10-python.tar.gz\n"
          ],
          "name": "stdout"
        },
        {
          "output_type": "display_data",
          "data": {
            "application/vnd.jupyter.widget-view+json": {
              "model_id": "04539c4495c64d11b42905b3030fefff",
              "version_minor": 0,
              "version_major": 2
            },
            "text/plain": [
              "HBox(children=(FloatProgress(value=1.0, bar_style='info', max=1.0), HTML(value='')))"
            ]
          },
          "metadata": {
            "tags": []
          }
        },
        {
          "output_type": "stream",
          "text": [
            "Extracting ./cifar-10-python.tar.gz to .\n",
            "Files already downloaded and verified\n"
          ],
          "name": "stdout"
        }
      ]
    },
    {
      "cell_type": "code",
      "metadata": {
        "id": "mRkBGjAEKZM0"
      },
      "source": [
        "## network and optimizer\n",
        "if dataset == 'mnist':\n",
        "    num_inputs = 784\n",
        "elif dataset == 'cifar10':\n",
        "    num_inputs = 3072\n",
        "\n",
        "num_outputs = 10 # same for both CIFAR10 and MNIST, both have 10 classes as outputs\n",
        "\n",
        "class Net(nn.Module):\n",
        "    def __init__(self, num_inputs, num_outputs):\n",
        "        super(Net, self).__init__()\n",
        "        self.linear = nn.Linear(num_inputs, num_outputs)\n",
        "\n",
        "    def forward(self, input):\n",
        "        input = input.view(-1, num_inputs) # reshape input to batch x num_inputs\n",
        "        output = self.linear(input)\n",
        "        return output\n",
        "\n",
        "network = Net(num_inputs, num_outputs)\n",
        "optimizer = optim.SGD(network.parameters(), lr=lr)"
      ],
      "execution_count": null,
      "outputs": []
    },
    {
      "cell_type": "code",
      "metadata": {
        "id": "3DfrCg4-Kfq6"
      },
      "source": [
        "def train(epoch):\n",
        "    network.train()\n",
        "    for batch_idx, (data, target) in enumerate(train_loader):\n",
        "        data, target = Variable(data), Variable(target)\n",
        "        optimizer.zero_grad()\n",
        "        output = network(data)\n",
        "        loss = F.cross_entropy(output, target)\n",
        "        loss.backward()\n",
        "        optimizer.step()\n",
        "        if batch_idx % 100 == 0:\n",
        "            print('Train Epoch: {} [{}/{} ({:.0f}%)]\\tLoss: {:.6f}'.format(\n",
        "                epoch, batch_idx * len(data), len(train_loader.dataset),\n",
        "                100. * batch_idx / len(train_loader), loss.item()))\n",
        "\n",
        "def test():\n",
        "    network.eval()\n",
        "    test_loss = 0\n",
        "    correct = 0\n",
        "    for data, target in test_loader:\n",
        "        #data, target = Variable(data, volatile=True), Variable(target)\n",
        "        output = network(data)\n",
        "        test_loss += F.cross_entropy(output, target, reduction='sum').item() # sum up batch loss\n",
        "        #test_loss += F.cross_entropy(output, target, sum=True).item() # sum up batch loss\n",
        "        pred = output.data.max(1, keepdim=True)[1] # get the index of the max log-probability\n",
        "        correct += pred.eq(target.data.view_as(pred)).cpu().sum()\n",
        "\n",
        "    test_loss /= len(test_loader.dataset)\n",
        "    print('\\nTest set: Average loss: {:.4f}, Accuracy: {}/{} ({:.0f}%)\\n'.format(\n",
        "        test_loss, correct, len(test_loader.dataset),\n",
        "        100. * correct / len(test_loader.dataset)))\n"
      ],
      "execution_count": null,
      "outputs": []
    },
    {
      "cell_type": "code",
      "metadata": {
        "id": "c52XmoeCKja2",
        "colab": {
          "base_uri": "https://localhost:8080/",
          "height": 153
        },
        "outputId": "bc492b48-2451-48c0-a1a5-f4220dc6ad88"
      },
      "source": [
        "train(1)"
      ],
      "execution_count": null,
      "outputs": [
        {
          "output_type": "stream",
          "text": [
            "Train Epoch: 1 [0/50000 (0%)]\tLoss: 2.275765\n",
            "Train Epoch: 1 [6400/50000 (13%)]\tLoss: 1.862874\n",
            "Train Epoch: 1 [12800/50000 (26%)]\tLoss: 1.960315\n",
            "Train Epoch: 1 [19200/50000 (38%)]\tLoss: 1.692417\n",
            "Train Epoch: 1 [25600/50000 (51%)]\tLoss: 1.617261\n",
            "Train Epoch: 1 [32000/50000 (64%)]\tLoss: 1.876149\n",
            "Train Epoch: 1 [38400/50000 (77%)]\tLoss: 1.822897\n",
            "Train Epoch: 1 [44800/50000 (90%)]\tLoss: 1.810199\n"
          ],
          "name": "stdout"
        }
      ]
    },
    {
      "cell_type": "code",
      "metadata": {
        "id": "4Nfl06zkKmfX",
        "colab": {
          "base_uri": "https://localhost:8080/",
          "height": 68
        },
        "outputId": "836b528e-5631-445d-ed27-2bd3cea703d5"
      },
      "source": [
        "test()"
      ],
      "execution_count": null,
      "outputs": [
        {
          "output_type": "stream",
          "text": [
            "\n",
            "Test set: Average loss: 1.7974, Accuracy: 18580/50000 (37%)\n",
            "\n"
          ],
          "name": "stdout"
        }
      ]
    },
    {
      "cell_type": "code",
      "metadata": {
        "id": "4PEr0tdHLFX2"
      },
      "source": [
        ""
      ],
      "execution_count": null,
      "outputs": []
    },
    {
      "cell_type": "markdown",
      "metadata": {
        "id": "rk-O2_m03CIF"
      },
      "source": [
        ""
      ]
    }
  ]
}